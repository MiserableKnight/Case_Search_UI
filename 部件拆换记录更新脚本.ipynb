{
 "cells": [
  {
   "cell_type": "code",
   "execution_count": 3,
   "id": "7662b437-dc3f-4ac8-b1ac-7261cda74cb5",
   "metadata": {},
   "outputs": [],
   "source": [
    "import numpy as np\n",
    "import pandas as pd\n",
    "import datetime\n",
    "import time\n",
    "import re\n",
    "\n",
    "# # 设置显示最大行数和列数\n",
    "# pd.set_option('display.max_rows', None)  # 设置为None表示不限制行数\n",
    "# pd.set_option('display.max_columns', None)  # 设置为None表示不限制列数\n",
    "# pd.set_option('display.width', None)  # 自动检测控制台的宽度\n",
    "# pd.set_option('display.max_colwidth', None)  # 设置列的最大宽度为-1，即不截断\n",
    "\n",
    "import warnings\n",
    "warnings.filterwarnings(\"ignore\")"
   ]
  },
  {
   "cell_type": "code",
   "execution_count": 4,
   "id": "47d6078b-556b-47b5-a1ac-20c2ca60c36c",
   "metadata": {},
   "outputs": [],
   "source": [
    "df_r_and_i = pd.read_excel(r'D:\\迅雷下载\\部件拆换记录_20250309.xlsx')\n",
    "df_r_and_i['数据类型'] = '部件拆换记录'"
   ]
  },
  {
   "cell_type": "code",
   "execution_count": 5,
   "id": "70d569fc-8406-4640-b177-07b249b104d5",
   "metadata": {},
   "outputs": [],
   "source": [
    "# 使用 rename 方法修改列名\n",
    "df_r_and_i = df_r_and_i.rename(columns={'拆换日期': '日期', 'ATA': '维修ATA', '拆换原因': '问题描述', '拆卸部件处理措施': '排故措施'})"
   ]
  },
  {
   "cell_type": "code",
   "execution_count": 6,
   "id": "66173bf2-6952-4d13-ab02-23a0dc0f4a09",
   "metadata": {},
   "outputs": [],
   "source": [
    "df_r_and_i = df_r_and_i[[ '日期', '维修ATA', '问题描述', '排故措施', '运营人', '机型', '飞机序列号', '机号','数据类型', '拆卸部件件号', '拆卸部件序列号', '装上部件件号','装上部件序列号']]"
   ]
  },
  {
   "cell_type": "code",
   "execution_count": 7,
   "id": "87fb6940-5e0d-44a9-afd6-7a98cd9ecd08",
   "metadata": {},
   "outputs": [
    {
     "data": {
      "text/plain": [
       "array(['成航', '南航', '江西航', '国航', '东航', '华夏', '天骄', '翎亚', '圆通'],\n",
       "      dtype=object)"
      ]
     },
     "execution_count": 7,
     "metadata": {},
     "output_type": "execute_result"
    }
   ],
   "source": [
    "# 定义替换规则\n",
    "replace_rules = [\n",
    "    (['天骄', '天骄航空', '天骄航空有限公司'], '天骄'),\n",
    "    (['东航', '东方航空', '一二三航空', '一二三航空有限公司（东方航空）', '东航技术', '中国东方航空有限公司','一二三航空有限公司（东航）','一二三航空有限公司','中国东方航空集团有限公司'], '东航'),\n",
    "    (['江西航', '江西航空有限公司', '江西航空'], '江西航'),\n",
    "    (['南航', '南方航空', '中国南方航空有限公司','中国南方航空股份有限公司'], '南航'),\n",
    "    (['国航', '中国国航', '中国国际航空股份有限公司'], '国航'),\n",
    "    (['成航', '成都航空', '成都航空有限公司'], '成航'),\n",
    "    (['乌航', '乌鲁木齐航空'], '乌航'),\n",
    "    (['华夏', '华夏航空', '华夏航空股份有限公司'], '华夏'),\n",
    "    (['金鹏', '金鹏航空'], '金鹏'),\n",
    "    (['圆通', '圆通货航', '圆通航空','杭州圆通货运航空有限公司'], '圆通'),\n",
    "#     (['商飞快线'], '商飞快线'),\n",
    "#     (['试飞中心'], '试飞中心'),\n",
    "#     (['试飞院'], '试飞院'),\n",
    "#     (['商飞运营'], '商飞运营'),\n",
    "    (['中飞通', '中飞通航', '中飞通用航空有限责任公司'], '中飞通'),\n",
    "    (['中原龙浩', '中原龙浩航空'], '中原龙浩'),\n",
    "    (['上飞公司维修中心'], '上飞公司维修中心'),\n",
    "    (['GAMECO', '广州飞机维修工程有限公司（GAMECO）'], 'GAMECO'),\n",
    "    (['翎亚', '翎亚航空 PT TransNusa Aviation Mandiri', 'TRANSNUSA AVIATION MANDIRI', 'TransNusa'], '翎亚'),\n",
    "    (['中国商飞', '中国商用飞机有限责任公司'], '中国商飞'),\n",
    "    (['AMECO', '北京飞机维修工程有限公司'], 'AMECO'),\n",
    "    (['山东太古', '山东太古飞机工程有限公司'], '山东太古'),\n",
    "    (['STARCO', '上海科技宇航有限公司 Shanghai Technologies Aerospace (STARCO)'], 'STARCO'),\n",
    "    (['中飞租', '中国飞机租赁集团控股有限公司'], '中飞租'),\n",
    "#     (['维修交付中心'], '维修交付中心'),\n",
    "#     (['西安阎良试飞现场'], '西安阎良试飞现场'),\n",
    "#     (['无'], '无')\n",
    "]\n",
    "\n",
    "# 过滤掉只有单个元素的规则，因为单个元素无需替换\n",
    "filtered_replace_rules = [rule for rule in replace_rules if len(rule[0]) > 1]\n",
    "\n",
    "# 进行替换操作\n",
    "for replacements, target in filtered_replace_rules:\n",
    "    df_r_and_i['运营人'] = df_r_and_i['运营人'].replace(replacements, target)\n",
    "\n",
    "df_r_and_i['运营人'].fillna('无', inplace=True)\n",
    "df_r_and_i['运营人'].unique()"
   ]
  },
  {
   "cell_type": "code",
   "execution_count": 8,
   "id": "079b7917-9562-486d-a33e-5def1e8e65ef",
   "metadata": {},
   "outputs": [],
   "source": [
    "df_faults = pd.read_parquet(r'D:\\Quant\\Case_Search_UI\\data\\raw\\faults.parquet')"
   ]
  },
  {
   "cell_type": "code",
   "execution_count": 9,
   "id": "20c0b708-1a53-4008-beeb-d62dff173819",
   "metadata": {},
   "outputs": [
    {
     "data": {
      "text/plain": [
       "array(['东航', '国航', '南航', '成航', '华夏', '江西航', '天骄', '翎亚', '圆通'],\n",
       "      dtype=object)"
      ]
     },
     "execution_count": 9,
     "metadata": {},
     "output_type": "execute_result"
    }
   ],
   "source": [
    "df_faults['运营人'].unique()"
   ]
  },
  {
   "cell_type": "code",
   "execution_count": 11,
   "id": "0ba4a533-5c88-4d65-a57c-e9e17a66b5bd",
   "metadata": {},
   "outputs": [],
   "source": [
    "df_faults = pd.concat([df_faults, df_r_and_i], axis=0)"
   ]
  },
  {
   "cell_type": "code",
   "execution_count": 12,
   "id": "059947f4-698f-4b2d-9487-08348e6ea0e7",
   "metadata": {},
   "outputs": [
    {
     "data": {
      "text/plain": [
       "(55773, 13)"
      ]
     },
     "execution_count": 12,
     "metadata": {},
     "output_type": "execute_result"
    }
   ],
   "source": [
    "df_faults.sort_values('日期', ascending=False, inplace=True)\n",
    "df_faults.reset_index(inplace=True, drop=True)\n",
    "df_faults = df_faults.drop_duplicates()\n",
    "df_faults.shape"
   ]
  },
  {
   "cell_type": "code",
   "execution_count": 33,
   "id": "22c19ef1-050c-4fa6-938f-b2d3ed4f69e9",
   "metadata": {},
   "outputs": [],
   "source": [
    "# df_faults.to_parquet(r'D:\\Quant\\Search_UI\\app\\data\\faults.parquet')"
   ]
  },
  {
   "cell_type": "code",
   "execution_count": 14,
   "id": "f8631787-8ce7-45c7-ba50-7ff5972e5d12",
   "metadata": {},
   "outputs": [
    {
     "name": "stdout",
     "output_type": "stream",
     "text": [
      "<class 'pandas.core.frame.DataFrame'>\n",
      "Index: 55773 entries, 0 to 82443\n",
      "Data columns (total 13 columns):\n",
      " #   Column   Non-Null Count  Dtype \n",
      "---  ------   --------------  ----- \n",
      " 0   日期       55773 non-null  object\n",
      " 1   维修ATA    55773 non-null  int64 \n",
      " 2   问题描述     55773 non-null  object\n",
      " 3   排故措施     30442 non-null  object\n",
      " 4   运营人      55773 non-null  object\n",
      " 5   机型       55773 non-null  object\n",
      " 6   飞机序列号    55773 non-null  int64 \n",
      " 7   机号       55773 non-null  object\n",
      " 8   数据类型     55773 non-null  object\n",
      " 9   拆卸部件件号   26445 non-null  object\n",
      " 10  拆卸部件序列号  19823 non-null  object\n",
      " 11  装上部件件号   26491 non-null  object\n",
      " 12  装上部件序列号  19611 non-null  object\n",
      "dtypes: int64(2), object(11)\n",
      "memory usage: 6.0+ MB\n"
     ]
    }
   ],
   "source": [
    "df_faults.info()"
   ]
  },
  {
   "cell_type": "code",
   "execution_count": null,
   "id": "f85c3485-1809-438a-b3d1-8d3e7d859029",
   "metadata": {},
   "outputs": [],
   "source": []
  }
 ],
 "metadata": {
  "kernelspec": {
   "display_name": "Python 3 (ipykernel)",
   "language": "python",
   "name": "python3"
  },
  "language_info": {
   "codemirror_mode": {
    "name": "ipython",
    "version": 3
   },
   "file_extension": ".py",
   "mimetype": "text/x-python",
   "name": "python",
   "nbconvert_exporter": "python",
   "pygments_lexer": "ipython3",
   "version": "3.12.4"
  }
 },
 "nbformat": 4,
 "nbformat_minor": 5
}
